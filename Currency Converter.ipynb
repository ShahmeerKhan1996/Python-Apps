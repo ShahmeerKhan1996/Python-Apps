{
 "cells": [
  {
   "cell_type": "markdown",
   "id": "4e5c463c-71a8-4642-bf63-df051c6d912a",
   "metadata": {},
   "source": [
    "If you want to convert 100 EUR to INR:\n",
    "\n",
    "1st step:\n",
    "Convert 100 EUR to USD:\n",
    "\n",
    "Amount in USD = 100 / 0.85 ≈ 117.65 USD\n",
    "\n",
    "2nd step:\n",
    "Convert 117.65 USD to INR:\n",
    "\n",
    "Converted Amount = 117.65 × 74.5 ≈ 8765.75 INR\n",
    "\n",
    "Exchange Rates (Base: USD):\n",
    "\n",
    "USD to USD: 1.0  \n",
    "EUR to USD: 0.85  \n",
    "GBP to USD: 0.75  \n",
    "INR to USD: 74.5  \n",
    "JPY to USD: 110.0  \n",
    "AUD to USD: 1.35  \n",
    "CAD to USD: 1.25  \n",
    "PKR to USD: 285.0  \n"
   ]
  },
  {
   "cell_type": "code",
   "execution_count": null,
   "id": "5b5f7135-1bbc-4638-8a69-89c84c74cd14",
   "metadata": {},
   "outputs": [
    {
     "name": "stdout",
     "output_type": "stream",
     "text": [
      "Currency Converter App\n",
      "\n",
      "\n",
      "Available currencies: USD, EUR, GBP, INR, JPY, AUD, CAD, PKR\n"
     ]
    },
    {
     "name": "stdin",
     "output_type": "stream",
     "text": [
      "\n",
      "Amount to convert (e.g., 100):  100\n",
      "Convert from (e.g., USD):  inr\n",
      "Convert to (e.g., EUR):  pkr\n"
     ]
    },
    {
     "name": "stdout",
     "output_type": "stream",
     "text": [
      "\n",
      "100.0 INR = 382.55 PKR\n"
     ]
    }
   ],
   "source": [
    "# Exchange rates dictionary (base: USD)\n",
    "exchange_rates = {\n",
    "    \"USD\": 1.0,\n",
    "    \"EUR\": 0.85,\n",
    "    \"GBP\": 0.75,\n",
    "    \"INR\": 74.5,\n",
    "    \"JPY\": 110.0,\n",
    "    \"AUD\": 1.35,\n",
    "    \"CAD\": 1.25,\n",
    "    \"PKR\": 285.0\n",
    "}\n",
    "\n",
    "def display_available_currencies():\n",
    "    print(\"\\nAvailable currencies: USD, EUR, GBP, INR, JPY, AUD, CAD, PKR\")\n",
    "\n",
    "def convert_currency(amount, from_currency, to_currency):\n",
    "    if from_currency in exchange_rates and to_currency in exchange_rates:\n",
    "        amount_in_usd = amount / exchange_rates[from_currency]\n",
    "        return amount_in_usd * exchange_rates[to_currency]\n",
    "    return None\n",
    "\n",
    "def is_valid_currency(currency):\n",
    "    return currency in exchange_rates\n",
    "\n",
    "print(\"Currency Converter App\\n\")\n",
    "\n",
    "keep_running = True\n",
    "\n",
    "while keep_running:\n",
    "    display_available_currencies()\n",
    "\n",
    "    try:\n",
    "        amount = float(input(\"\\nAmount to convert (e.g., 100): \"))\n",
    "    except ValueError:\n",
    "        print(\"Invalid amount. Please enter a valid number.\")\n",
    "        continue\n",
    "\n",
    "    from_currency = input(f\"Convert from (e.g., USD): \").upper()\n",
    "    to_currency = input(f\"Convert to (e.g., EUR): \").upper()\n",
    "\n",
    "\n",
    "    if not is_valid_currency(from_currency) or not is_valid_currency(to_currency):\n",
    "        print(\"Invalid currency code. Try again.\")\n",
    "    else:\n",
    "        converted_amount = convert_currency(amount, from_currency, to_currency)\n",
    "        if converted_amount:\n",
    "            print(f\"\\n{amount} {from_currency} = {converted_amount:.2f} {to_currency}\")\n",
    "        else:\n",
    "            print(\"Conversion failed. Please try again.\")\n",
    "            \n",
    "    while True:\n",
    "        user_choice = input(\"\\nConvert again? (y/n): \").lower()\n",
    "        if user_choice == 'y':\n",
    "            break\n",
    "        elif user_choice == 'n':\n",
    "            print(\"Goodbye!\")\n",
    "            keep_running = False\n",
    "            break\n",
    "        else:\n",
    "            print(\"Invalid input. Please enter 'y' for yes or 'n' for no.\")"
   ]
  },
  {
   "cell_type": "code",
   "execution_count": null,
   "id": "8573d28c-f0c1-4c90-bdbd-e8879f20ecee",
   "metadata": {},
   "outputs": [],
   "source": []
  }
 ],
 "metadata": {
  "kernelspec": {
   "display_name": "Python 3 (ipykernel)",
   "language": "python",
   "name": "python3"
  },
  "language_info": {
   "codemirror_mode": {
    "name": "ipython",
    "version": 3
   },
   "file_extension": ".py",
   "mimetype": "text/x-python",
   "name": "python",
   "nbconvert_exporter": "python",
   "pygments_lexer": "ipython3",
   "version": "3.12.7"
  }
 },
 "nbformat": 4,
 "nbformat_minor": 5
}
