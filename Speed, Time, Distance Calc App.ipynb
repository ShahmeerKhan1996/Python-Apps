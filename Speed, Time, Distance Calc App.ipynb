{
 "cells": [
  {
   "cell_type": "markdown",
   "id": "0086787e-4338-4fe0-8ed0-a3ff485df16d",
   "metadata": {},
   "source": [
    "Write a program to calculate speed, distance, or time based on user input.\n",
    "\n",
    "- Speed = Distance / Time\n",
    "- Distance = Speed × Time\n",
    "- Time = Distance / Speed\n",
    "\n",
    "Requirements:\n",
    "\n",
    "Display a menu with options to calculate:\n",
    "\n",
    "- Speed (m/s)\n",
    "- Distance (meters)\n",
    "- Time (seconds)\n",
    "- Exit\n",
    "\n",
    "Ask for relevant inputs (distance, time, speed) for each option.\n",
    "\n",
    "Handle invalid inputs (non-numeric, negative values) and avoid division by zero errors.\n",
    "\n",
    "Keep running until the user selects \"Exit\"."
   ]
  },
  {
   "cell_type": "code",
   "execution_count": 1,
   "id": "b2d03ee1-7565-48dc-b220-40325756976b",
   "metadata": {},
   "outputs": [
    {
     "name": "stdout",
     "output_type": "stream",
     "text": [
      "\n",
      "Choose what you want to calculate:\n",
      "1. Speed (m/s)\n",
      "2. Distance (meters)\n",
      "3. Time (seconds)\n",
      "4. Exit\n"
     ]
    },
    {
     "name": "stdin",
     "output_type": "stream",
     "text": [
      "Enter your choice (1-4):  1\n",
      "Enter the distance (in meters):  33\n",
      "Enter the time (in seconds):  121\n"
     ]
    },
    {
     "name": "stdout",
     "output_type": "stream",
     "text": [
      "Speed: 0.27 meters/second (m/s)\n",
      "\n",
      "Choose what you want to calculate:\n",
      "1. Speed (m/s)\n",
      "2. Distance (meters)\n",
      "3. Time (seconds)\n",
      "4. Exit\n"
     ]
    },
    {
     "name": "stdin",
     "output_type": "stream",
     "text": [
      "Enter your choice (1-4):  4\n"
     ]
    },
    {
     "name": "stdout",
     "output_type": "stream",
     "text": [
      "Exiting the program. Goodbye!\n"
     ]
    }
   ],
   "source": [
    "def calculate_speed(distance, time):\n",
    "    if time == 0:\n",
    "        return \"Error: Time cannot be zero!\"\n",
    "    return distance / time\n",
    "\n",
    "def calculate_distance(speed, time):\n",
    "    return speed * time\n",
    "\n",
    "def calculate_time(distance, speed):\n",
    "    if speed == 0:\n",
    "        return \"Error: Speed cannot be zero!\"\n",
    "    return distance / speed\n",
    "\n",
    "def display_menu():\n",
    "    print(\"\\nChoose what you want to calculate:\")\n",
    "    print(\"1. Speed (m/s)\")\n",
    "    print(\"2. Distance (meters)\")\n",
    "    print(\"3. Time (seconds)\")\n",
    "    print(\"4. Exit\")\n",
    "\n",
    "\n",
    "def get_numeric_input(prompt):\n",
    "    while True:\n",
    "        try:\n",
    "            value = float(input(prompt))\n",
    "            if value < 0:\n",
    "                print(\"Please enter a positive number.\")\n",
    "            else:\n",
    "                return value\n",
    "        except ValueError:\n",
    "            print(\"Invalid input. Please enter a numeric value.\")\n",
    "\n",
    "\n",
    "def run_speed_time_distance_calculator():\n",
    "    while True:\n",
    "        display_menu()\n",
    "\n",
    "        choice = input(\"Enter your choice (1-4): \")\n",
    "\n",
    "        if choice == '1':\n",
    "            distance = get_numeric_input(\"Enter the distance (in meters): \")\n",
    "            time = get_numeric_input(\"Enter the time (in seconds): \")\n",
    "            speed = calculate_speed(distance, time)\n",
    "            if \"Error\" in str(speed):\n",
    "                print(speed)\n",
    "            else:\n",
    "                print(f\"Speed: {speed:.2f} meters/second (m/s)\")\n",
    "        \n",
    "        elif choice == '2':\n",
    "            speed = get_numeric_input(\"Enter the speed (in meters/second): \")\n",
    "            time = get_numeric_input(\"Enter the time (in seconds): \")\n",
    "            distance = calculate_distance(speed, time)\n",
    "            print(f\"Distance: {distance:.2f} meters\")\n",
    "        \n",
    "        elif choice == '3':\n",
    "            distance = get_numeric_input(\"Enter the distance (in meters): \")\n",
    "            speed = get_numeric_input(\"Enter the speed (in meters/second): \")\n",
    "            time = calculate_time(distance, speed)\n",
    "            if \"Error\" in str(time):\n",
    "                print(time)\n",
    "            else:\n",
    "                print(f\"Time: {time:.2f} seconds\")\n",
    "        \n",
    "        elif choice == '4':\n",
    "            print(\"Exiting the program. Goodbye!\")\n",
    "            break\n",
    "        \n",
    "        else:\n",
    "            print(\"Invalid choice. Please enter a valid option (1-4).\")\n",
    "\n",
    "# Run the calculator\n",
    "run_speed_time_distance_calculator()\n"
   ]
  },
  {
   "cell_type": "code",
   "execution_count": null,
   "id": "5f501f83-8842-48ce-b4be-03c13129396a",
   "metadata": {},
   "outputs": [],
   "source": []
  }
 ],
 "metadata": {
  "kernelspec": {
   "display_name": "Python 3 (ipykernel)",
   "language": "python",
   "name": "python3"
  },
  "language_info": {
   "codemirror_mode": {
    "name": "ipython",
    "version": 3
   },
   "file_extension": ".py",
   "mimetype": "text/x-python",
   "name": "python",
   "nbconvert_exporter": "python",
   "pygments_lexer": "ipython3",
   "version": "3.12.7"
  }
 },
 "nbformat": 4,
 "nbformat_minor": 5
}
